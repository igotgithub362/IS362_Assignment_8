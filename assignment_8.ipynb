{
 "cells": [
  {
   "cell_type": "markdown",
   "id": "fcf26143",
   "metadata": {},
   "source": [
    "# IS 362 – Week 8 Assignment  \n",
    "\n",
    "Your task in this week’s assignment is to load a dataset, perform some minor cleanup and transformation tasks, then use exploratory data analysis to learn about the distribution of variables and the relationship between variables. \n",
    "Here is a link to the “Auto MPG” dataset in the UC Irvine data repository:  https://archive.ics.uci.edu/ml/datasets/Auto+MPG"
   ]
  },
  {
   "cell_type": "markdown",
   "id": "31d7a7cf",
   "metadata": {},
   "source": [
    "## Import modules"
   ]
  },
  {
   "cell_type": "code",
   "execution_count": 28,
   "id": "3e38532e",
   "metadata": {},
   "outputs": [],
   "source": [
    "import numpy as np\n",
    "import matplotlib.pyplot as plt\n",
    "import pandas as pd\n",
    "from pandas import DataFrame, Series \n",
    "import seaborn as sns \n",
    "%matplotlib inline\n",
    "import pylab as pl\n",
    "from pandas import *\n",
    "import warnings\n",
    "warnings.simplefilter(action='ignore', category=FutureWarning)\n",
    "\n"
   ]
  },
  {
   "cell_type": "markdown",
   "id": "ecee2d25",
   "metadata": {},
   "source": [
    "## Then read in data, specifying column names, and index by car name"
   ]
  },
  {
   "cell_type": "code",
   "execution_count": 27,
   "id": "6bb4a170",
   "metadata": {},
   "outputs": [
    {
     "data": {
      "text/html": [
       "<div>\n",
       "<style scoped>\n",
       "    .dataframe tbody tr th:only-of-type {\n",
       "        vertical-align: middle;\n",
       "    }\n",
       "\n",
       "    .dataframe tbody tr th {\n",
       "        vertical-align: top;\n",
       "    }\n",
       "\n",
       "    .dataframe thead th {\n",
       "        text-align: right;\n",
       "    }\n",
       "</style>\n",
       "<table border=\"1\" class=\"dataframe\">\n",
       "  <thead>\n",
       "    <tr style=\"text-align: right;\">\n",
       "      <th></th>\n",
       "      <th>mpg</th>\n",
       "      <th>cylinders</th>\n",
       "      <th>displacement</th>\n",
       "      <th>horsepower</th>\n",
       "      <th>weight</th>\n",
       "      <th>acceleration</th>\n",
       "      <th>model_year</th>\n",
       "      <th>origin</th>\n",
       "    </tr>\n",
       "    <tr>\n",
       "      <th>car_name</th>\n",
       "      <th></th>\n",
       "      <th></th>\n",
       "      <th></th>\n",
       "      <th></th>\n",
       "      <th></th>\n",
       "      <th></th>\n",
       "      <th></th>\n",
       "      <th></th>\n",
       "    </tr>\n",
       "  </thead>\n",
       "  <tbody>\n",
       "    <tr>\n",
       "      <th>\"chevrolet chevelle malibu\"</th>\n",
       "      <td>18.0</td>\n",
       "      <td>8</td>\n",
       "      <td>307.0</td>\n",
       "      <td>130.0</td>\n",
       "      <td>3504.0</td>\n",
       "      <td>12.0</td>\n",
       "      <td>70</td>\n",
       "      <td>1</td>\n",
       "    </tr>\n",
       "    <tr>\n",
       "      <th>\"buick skylark 320\"</th>\n",
       "      <td>15.0</td>\n",
       "      <td>8</td>\n",
       "      <td>350.0</td>\n",
       "      <td>165.0</td>\n",
       "      <td>3693.0</td>\n",
       "      <td>11.5</td>\n",
       "      <td>70</td>\n",
       "      <td>1</td>\n",
       "    </tr>\n",
       "    <tr>\n",
       "      <th>\"plymouth satellite\"</th>\n",
       "      <td>18.0</td>\n",
       "      <td>8</td>\n",
       "      <td>318.0</td>\n",
       "      <td>150.0</td>\n",
       "      <td>3436.0</td>\n",
       "      <td>11.0</td>\n",
       "      <td>70</td>\n",
       "      <td>1</td>\n",
       "    </tr>\n",
       "    <tr>\n",
       "      <th>\"amc rebel sst\"</th>\n",
       "      <td>16.0</td>\n",
       "      <td>8</td>\n",
       "      <td>304.0</td>\n",
       "      <td>150.0</td>\n",
       "      <td>3433.0</td>\n",
       "      <td>12.0</td>\n",
       "      <td>70</td>\n",
       "      <td>1</td>\n",
       "    </tr>\n",
       "    <tr>\n",
       "      <th>\"ford torino\"</th>\n",
       "      <td>17.0</td>\n",
       "      <td>8</td>\n",
       "      <td>302.0</td>\n",
       "      <td>140.0</td>\n",
       "      <td>3449.0</td>\n",
       "      <td>10.5</td>\n",
       "      <td>70</td>\n",
       "      <td>1</td>\n",
       "    </tr>\n",
       "  </tbody>\n",
       "</table>\n",
       "</div>"
      ],
      "text/plain": [
       "                              mpg  cylinders  displacement horsepower  weight  acceleration  model_year  origin\n",
       "car_name                                                                                                       \n",
       "\"chevrolet chevelle malibu\"  18.0          8         307.0      130.0  3504.0          12.0          70       1\n",
       "\"buick skylark 320\"          15.0          8         350.0      165.0  3693.0          11.5          70       1\n",
       "\"plymouth satellite\"         18.0          8         318.0      150.0  3436.0          11.0          70       1\n",
       "\"amc rebel sst\"              16.0          8         304.0      150.0  3433.0          12.0          70       1\n",
       "\"ford torino\"                17.0          8         302.0      140.0  3449.0          10.5          70       1"
      ]
     },
     "execution_count": 27,
     "metadata": {},
     "output_type": "execute_result"
    }
   ],
   "source": [
    "cars = pd.read_fwf('https://archive.ics.uci.edu/ml/machine-learning-databases/auto-mpg/auto-mpg.data', header=None, names=['mpg', 'cylinders', 'displacement', 'horsepower', 'weight', 'acceleration', 'model_year', 'origin', 'car_name']).set_index('car_name')\n",
    "cars.head()"
   ]
  },
  {
   "cell_type": "markdown",
   "id": "06ff79df",
   "metadata": {},
   "source": [
    "## Replace ‘?’ values in the horsepower column with a pandas-appropriate missing value, then convert the column to numeric."
   ]
  },
  {
   "cell_type": "code",
   "execution_count": 21,
   "id": "04030a53",
   "metadata": {},
   "outputs": [
    {
     "data": {
      "text/plain": [
       "car_name\n",
       "\"chevrolet chevelle malibu\"    130.0\n",
       "\"buick skylark 320\"            165.0\n",
       "\"plymouth satellite\"           150.0\n",
       "\"amc rebel sst\"                150.0\n",
       "\"ford torino\"                  140.0\n",
       "                               ...  \n",
       "\"ford mustang gl\"               86.0\n",
       "\"vw pickup\"                     52.0\n",
       "\"dodge rampage\"                 84.0\n",
       "\"ford ranger\"                   79.0\n",
       "\"chevy s-10\"                    82.0\n",
       "Name: horsepower, Length: 398, dtype: float64"
      ]
     },
     "execution_count": 21,
     "metadata": {},
     "output_type": "execute_result"
    }
   ],
   "source": [
    "cars = cars.replace('?', np.nan)\n",
    "cars['horsepower'].astype(float)"
   ]
  },
  {
   "cell_type": "markdown",
   "id": "3eacc5e5",
   "metadata": {},
   "source": [
    "## Convert the origin column values from 1, 2, and 3 to ‘USA’, ‘Asia’, and ‘Europe’."
   ]
  },
  {
   "cell_type": "code",
   "execution_count": 22,
   "id": "6c3e0a5a",
   "metadata": {},
   "outputs": [
    {
     "data": {
      "text/html": [
       "<div>\n",
       "<style scoped>\n",
       "    .dataframe tbody tr th:only-of-type {\n",
       "        vertical-align: middle;\n",
       "    }\n",
       "\n",
       "    .dataframe tbody tr th {\n",
       "        vertical-align: top;\n",
       "    }\n",
       "\n",
       "    .dataframe thead th {\n",
       "        text-align: right;\n",
       "    }\n",
       "</style>\n",
       "<table border=\"1\" class=\"dataframe\">\n",
       "  <thead>\n",
       "    <tr style=\"text-align: right;\">\n",
       "      <th></th>\n",
       "      <th>mpg</th>\n",
       "      <th>cylinders</th>\n",
       "      <th>displacement</th>\n",
       "      <th>horsepower</th>\n",
       "      <th>weight</th>\n",
       "      <th>acceleration</th>\n",
       "      <th>model_year</th>\n",
       "      <th>origin</th>\n",
       "    </tr>\n",
       "    <tr>\n",
       "      <th>car_name</th>\n",
       "      <th></th>\n",
       "      <th></th>\n",
       "      <th></th>\n",
       "      <th></th>\n",
       "      <th></th>\n",
       "      <th></th>\n",
       "      <th></th>\n",
       "      <th></th>\n",
       "    </tr>\n",
       "  </thead>\n",
       "  <tbody>\n",
       "    <tr>\n",
       "      <th>\"chrysler lebaron medallion\"</th>\n",
       "      <td>26.0</td>\n",
       "      <td>4</td>\n",
       "      <td>156.0</td>\n",
       "      <td>92.00</td>\n",
       "      <td>2585.0</td>\n",
       "      <td>14.5</td>\n",
       "      <td>82</td>\n",
       "      <td>USA</td>\n",
       "    </tr>\n",
       "    <tr>\n",
       "      <th>\"ford granada l\"</th>\n",
       "      <td>22.0</td>\n",
       "      <td>6</td>\n",
       "      <td>232.0</td>\n",
       "      <td>112.0</td>\n",
       "      <td>2835.0</td>\n",
       "      <td>14.7</td>\n",
       "      <td>82</td>\n",
       "      <td>USA</td>\n",
       "    </tr>\n",
       "    <tr>\n",
       "      <th>\"toyota celica gt\"</th>\n",
       "      <td>32.0</td>\n",
       "      <td>4</td>\n",
       "      <td>144.0</td>\n",
       "      <td>96.00</td>\n",
       "      <td>2665.0</td>\n",
       "      <td>13.9</td>\n",
       "      <td>82</td>\n",
       "      <td>Europe</td>\n",
       "    </tr>\n",
       "    <tr>\n",
       "      <th>\"dodge charger 2.2\"</th>\n",
       "      <td>36.0</td>\n",
       "      <td>4</td>\n",
       "      <td>135.0</td>\n",
       "      <td>84.00</td>\n",
       "      <td>2370.0</td>\n",
       "      <td>13.0</td>\n",
       "      <td>82</td>\n",
       "      <td>USA</td>\n",
       "    </tr>\n",
       "    <tr>\n",
       "      <th>\"chevrolet camaro\"</th>\n",
       "      <td>27.0</td>\n",
       "      <td>4</td>\n",
       "      <td>151.0</td>\n",
       "      <td>90.00</td>\n",
       "      <td>2950.0</td>\n",
       "      <td>17.3</td>\n",
       "      <td>82</td>\n",
       "      <td>USA</td>\n",
       "    </tr>\n",
       "    <tr>\n",
       "      <th>\"ford mustang gl\"</th>\n",
       "      <td>27.0</td>\n",
       "      <td>4</td>\n",
       "      <td>140.0</td>\n",
       "      <td>86.00</td>\n",
       "      <td>2790.0</td>\n",
       "      <td>15.6</td>\n",
       "      <td>82</td>\n",
       "      <td>USA</td>\n",
       "    </tr>\n",
       "    <tr>\n",
       "      <th>\"vw pickup\"</th>\n",
       "      <td>44.0</td>\n",
       "      <td>4</td>\n",
       "      <td>97.0</td>\n",
       "      <td>52.00</td>\n",
       "      <td>2130.0</td>\n",
       "      <td>24.6</td>\n",
       "      <td>82</td>\n",
       "      <td>Asia</td>\n",
       "    </tr>\n",
       "    <tr>\n",
       "      <th>\"dodge rampage\"</th>\n",
       "      <td>32.0</td>\n",
       "      <td>4</td>\n",
       "      <td>135.0</td>\n",
       "      <td>84.00</td>\n",
       "      <td>2295.0</td>\n",
       "      <td>11.6</td>\n",
       "      <td>82</td>\n",
       "      <td>USA</td>\n",
       "    </tr>\n",
       "    <tr>\n",
       "      <th>\"ford ranger\"</th>\n",
       "      <td>28.0</td>\n",
       "      <td>4</td>\n",
       "      <td>120.0</td>\n",
       "      <td>79.00</td>\n",
       "      <td>2625.0</td>\n",
       "      <td>18.6</td>\n",
       "      <td>82</td>\n",
       "      <td>USA</td>\n",
       "    </tr>\n",
       "    <tr>\n",
       "      <th>\"chevy s-10\"</th>\n",
       "      <td>31.0</td>\n",
       "      <td>4</td>\n",
       "      <td>119.0</td>\n",
       "      <td>82.00</td>\n",
       "      <td>2720.0</td>\n",
       "      <td>19.4</td>\n",
       "      <td>82</td>\n",
       "      <td>USA</td>\n",
       "    </tr>\n",
       "  </tbody>\n",
       "</table>\n",
       "</div>"
      ],
      "text/plain": [
       "                               mpg  cylinders  displacement horsepower  weight  acceleration  model_year  origin\n",
       "car_name                                                                                                        \n",
       "\"chrysler lebaron medallion\"  26.0          4         156.0      92.00  2585.0          14.5          82     USA\n",
       "\"ford granada l\"              22.0          6         232.0      112.0  2835.0          14.7          82     USA\n",
       "\"toyota celica gt\"            32.0          4         144.0      96.00  2665.0          13.9          82  Europe\n",
       "\"dodge charger 2.2\"           36.0          4         135.0      84.00  2370.0          13.0          82     USA\n",
       "\"chevrolet camaro\"            27.0          4         151.0      90.00  2950.0          17.3          82     USA\n",
       "\"ford mustang gl\"             27.0          4         140.0      86.00  2790.0          15.6          82     USA\n",
       "\"vw pickup\"                   44.0          4          97.0      52.00  2130.0          24.6          82    Asia\n",
       "\"dodge rampage\"               32.0          4         135.0      84.00  2295.0          11.6          82     USA\n",
       "\"ford ranger\"                 28.0          4         120.0      79.00  2625.0          18.6          82     USA\n",
       "\"chevy s-10\"                  31.0          4         119.0      82.00  2720.0          19.4          82     USA"
      ]
     },
     "execution_count": 22,
     "metadata": {},
     "output_type": "execute_result"
    }
   ],
   "source": [
    "cars[\"origin\"].replace([1,2,3], (['USA', 'Asia', 'Europe']), inplace=True)\n",
    "cars.tail(10)"
   ]
  },
  {
   "cell_type": "markdown",
   "id": "49ca689f",
   "metadata": {},
   "source": [
    "## Create a bar chart that shows the distribution for cylinders."
   ]
  },
  {
   "cell_type": "code",
   "execution_count": 23,
   "id": "82adc936",
   "metadata": {},
   "outputs": [
    {
     "data": {
      "text/plain": [
       "<AxesSubplot:title={'center':'Cylinder Distribution'}, xlabel='cylinders'>"
      ]
     },
     "execution_count": 23,
     "metadata": {},
     "output_type": "execute_result"
    },
    {
     "data": {
      "image/png": "[encoded data removed]",
      "text/plain": [
       "<Figure size 432x288 with 1 Axes>"
      ]
     },
     "metadata": {},
     "output_type": "display_data"
    }
   ],
   "source": [
    "sns.set_style('whitegrid')\n",
    "newset = cars.groupby('cylinders')\n",
    "newset['cylinders'].count().plot.bar(title=\"Cylinder Distribution\")"
   ]
  },
  {
   "cell_type": "markdown",
   "id": "fe556c1f",
   "metadata": {},
   "source": [
    "## Create a scatterplot that shows the relationship between horsepower and weight."
   ]
  },
  {
   "cell_type": "code",
   "execution_count": 24,
   "id": "411c1f1d",
   "metadata": {},
   "outputs": [
    {
     "data": {
      "text/plain": [
       "Text(0, 0.5, 'Horsepower')"
      ]
     },
     "execution_count": 24,
     "metadata": {},
     "output_type": "execute_result"
    },
    {
     "data": {
      "image/png": "[encoded data removed]",
      "text/plain": [
       "<Figure size 432x288 with 1 Axes>"
      ]
     },
     "metadata": {},
     "output_type": "display_data"
    }
   ],
   "source": [
    "x = cars['horsepower'].astype(np.float16)\n",
    "y = cars['weight'].astype(np.float16)\n",
    "plt.scatter(y, x, c='green')\n",
    "plt.title(\"Weight versus horsepower\")\n",
    "plt.xlabel(\"Weight of the car\")\n",
    "plt.ylabel(\"Horsepower\")"
   ]
  },
  {
   "cell_type": "markdown",
   "id": "1853f320",
   "metadata": {},
   "source": [
    "## Ask, then answer (using matplotlib and seaborn graphics capabilities) an interesting question about the distribution of one of the variables, or the relationship between two (or more!) of the variables in the “Auto MPG” dataset. "
   ]
  },
  {
   "cell_type": "markdown",
   "id": "53eebed6",
   "metadata": {},
   "source": [
    "### How is horsepower and miles per gallon distributed among different countries?"
   ]
  },
  {
   "cell_type": "code",
   "execution_count": 25,
   "id": "4e9881fc",
   "metadata": {},
   "outputs": [
    {
     "data": {
      "text/plain": [
       "<AxesSubplot:title={'center':'Car Specs By Origin'}, xlabel='origin'>"
      ]
     },
     "execution_count": 25,
     "metadata": {},
     "output_type": "execute_result"
    },
    {
     "data": {
      "image/png": "[encoded data removed]",
      "text/plain": [
       "<Figure size 432x288 with 1 Axes>"
      ]
     },
     "metadata": {},
     "output_type": "display_data"
    }
   ],
   "source": [
    "sns.set_style('darkgrid')\n",
    "newset = cars.groupby('origin')\n",
    "newset['horsepower','mpg'].count().plot.bar(title=\"Car Specs By Origin\")\n",
    "\n"
   ]
  },
  {
   "cell_type": "markdown",
   "id": "f3f50cc6",
   "metadata": {},
   "source": [
    "### How is horsepower, acceleration, and weight distributed by model year?"
   ]
  },
  {
   "cell_type": "code",
   "execution_count": 26,
   "id": "352f7d36",
   "metadata": {},
   "outputs": [
    {
     "data": {
      "text/plain": [
       "<AxesSubplot:title={'center':'Car Specs by Year'}, xlabel='model_year'>"
      ]
     },
     "execution_count": 26,
     "metadata": {},
     "output_type": "execute_result"
    },
    {
     "data": {
      "image/png": "[encoded data removed]",
      "text/plain": [
       "<Figure size 432x288 with 1 Axes>"
      ]
     },
     "metadata": {},
     "output_type": "display_data"
    }
   ],
   "source": [
    "sns.set_style('whitegrid')\n",
    "newset = cars.groupby('model_year')\n",
    "newset['horsepower','weight','acceleration'].count().plot.bar(title=\"Car Specs by Year\")"
   ]
  },
  {
   "cell_type": "code",
   "execution_count": null,
   "id": "dc33372e",
   "metadata": {},
   "outputs": [],
   "source": []
  }
 ],
 "metadata": {
  "kernelspec": {
   "display_name": "Python 3",
   "language": "python",
   "name": "python3"
  },
  "language_info": {
   "codemirror_mode": {
    "name": "ipython",
    "version": 3
   },
   "file_extension": ".py",
   "mimetype": "text/x-python",
   "name": "python",
   "nbconvert_exporter": "python",
   "pygments_lexer": "ipython3",
   "version": "3.9.4"
  }
 },
 "nbformat": 4,
 "nbformat_minor": 5
}
